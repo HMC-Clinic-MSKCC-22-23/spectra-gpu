{
 "cells": [
  {
   "attachments": {},
   "cell_type": "markdown",
   "metadata": {},
   "source": [
    "# Benchmarking Test File\n",
    "\n",
    "Use this notebook to compare a run of SPECTRA with the benchmark data. \n",
    "\n",
    "The data you're comparing is in the folder marked \"benchmark_factors\" on the google drive. There is one csv for each factor, and each file is named the same as the factor you should be comparing it against.\n",
    "\n",
    "There are two main things we're looking at - pairwise correlation between each factor and the intersection of the genes that contribute to each factor."
   ]
  },
  {
   "cell_type": "code",
   "execution_count": 2,
   "metadata": {},
   "outputs": [],
   "source": [
    "# imports\n",
    "import re\n",
    "import scanpy as sc\n",
    "import seaborn\n",
    "import numpy as np\n",
    "import csv\n",
    "import pandas as pd"
   ]
  },
  {
   "attachments": {},
   "cell_type": "markdown",
   "metadata": {},
   "source": [
    "This is all buggy right now - mainly waiting to see how to match factor weights back to genes, and waiting to see if a new run returns each factor individually like this, or if we have to pull that apart ourselves."
   ]
  },
  {
   "cell_type": "code",
   "execution_count": null,
   "metadata": {},
   "outputs": [],
   "source": [
    "# Importing files\n",
    "# file path for benchmark data - remember to CHANGE THE FILE PATH TO YOUR LOCAL PLACE YOU WANT THESE TO BE\n",
    "benchmark_path = \"C:\\\\Users\\\\phill\\\\Documents\\\\HMCFall22\\\\Clinic\\\\\"\n",
    "# file path for new data - remember to CHANGE THE FILE PATH TO YOUR LOCAL PLACE YOU WANT THESE TO BE\n",
    "new_factor_path = 'C:/Users/phill/Documents/HMCFall22/Clinic/SPECTRA-GPU/new_factors/'\n",
    "\n",
    "# new run - remember to CHANGE THE FILE PATH TO YOUR LOCAL PLACE YOU WANT THESE TO BE\n",
    "adata = sc.read_h5ad(benchmark_path + 'data_for_clinic_2023.h5ad')\n",
    "\n",
    "# grabbing the list of factors from the new data\n",
    "def match(input_string):\n",
    "    return re.findall(r'[\\d]*-X-[\\w_-]*X-norm', input_string)\n",
    "    \n",
    "factor_matches = [match(word) for word in adata.obs]\n",
    "\n",
    "# the list of the factor names as strings\n",
    "factor_list = []\n",
    "\n",
    "for l in factor_matches:\n",
    "    if l:\n",
    "        factor_list.append(l[0])\n",
    "\n",
    "# put this into a csv - CHANGE THE FILE PATH TO YOUR LOCAL PLACE YOU WANT THESE TO BE\n",
    "for factor in factor_list:\n",
    "    newFactors = pd.DataFrame(adata.obs[factor]).to_csv(new_factor_path + f\"{factor}.csv\", header=False, index=False)\n",
    "\n"
   ]
  },
  {
   "attachments": {},
   "cell_type": "markdown",
   "metadata": {},
   "source": [
    "Needs to be done below\n",
    "- be clear on dimensions of factor lists\n",
    "- right now this is working with GENE SCORE NOT FACTOR GENE NAMES\n",
    "- i tagged on \"genes\" to the end of the file path even though i'm not sure that's how that will work. just a note to myself, as it were"
   ]
  },
  {
   "cell_type": "code",
   "execution_count": 1,
   "metadata": {},
   "outputs": [
    {
     "ename": "IndentationError",
     "evalue": "expected an indented block (3081531705.py, line 5)",
     "output_type": "error",
     "traceback": [
      "\u001b[1;36m  Input \u001b[1;32mIn [1]\u001b[1;36m\u001b[0m\n\u001b[1;33m    \u001b[0m\n\u001b[1;37m    ^\u001b[0m\n\u001b[1;31mIndentationError\u001b[0m\u001b[1;31m:\u001b[0m expected an indented block\n"
     ]
    }
   ],
   "source": [
    "# Intersection between factors\n",
    "# for now assuming the anndata looks identical to the benchmark set we recieved.\n",
    "\n",
    "for l in factor_list:\n",
    "    benchmark_factor = []\n",
    "    new_factor = []\n",
    "    \n",
    "    # grab the benchmark data\n",
    "    with open(benchmark_path + '{l}_genes.csv', mode='r') as csv_file:\n",
    "        csv_reader = csv.reader(csv_file)\n",
    "\n",
    "        # get list of factors from csv\n",
    "        benchmark_factor = list(csv_reader)\n",
    "\n",
    "        csv_file.close()\n",
    "\n",
    "    # get the new run's data\n",
    "    with open(new_factor_path + '{l}_genes.csv', mode='r') as csv_file:\n",
    "        csv_reader = csv.reader(csv_file)\n",
    "\n",
    "        # get list of factors from csv\n",
    "        new_factor = list(csv_reader)\n",
    "\n",
    "        csv_file.close()\n",
    "\n",
    "\n",
    "\n",
    "    benchmark_factor_set = set(benchmark_factor)\n",
    "    new_factor_set = set(new_factor)\n",
    "\n",
    "    intersection_1 = benchmark_factor_set.intersection(new_factor_set) \n",
    "    average_unique_genes = (len(benchmark_factor_set) + len(new_factor_set))//2  \n",
    "\n",
    "    print(\"Intersection between genes for factor {l[0]}: \" + str(intersection_1))\n",
    "    print(\"Percent error of intersection: \" + str(round(abs(intersection_1 - average_unique_genes)/average_unique_genes, 4) * 100) + \"%\\n\\n\")\n"
   ]
  },
  {
   "cell_type": "code",
   "execution_count": null,
   "metadata": {},
   "outputs": [],
   "source": [
    "# Pairwise correlation \n",
    "\n",
    "for l in factor_list:\n",
    "    benchmark_factor = []\n",
    "    new_factor = []\n",
    "    \n",
    "    # grab the benchmark data\n",
    "    with open(benchmark_path + '{l}.csv', mode='r') as csv_file:\n",
    "        csv_reader = csv.reader(csv_file)\n",
    "\n",
    "        # get list of factors from csv\n",
    "        benchmark_factor = list(csv_reader)\n",
    "\n",
    "        csv_file.close()\n",
    "\n",
    "    # convert benchmark_factor elements to floats\n",
    "    num_benchmark_factor = []\n",
    "\n",
    "    for r in range(len(benchmark_factor)):\n",
    "        num_benchmark_factor.append(float(benchmark_factor[r][0]))\n",
    "\n",
    "    # get the new run's data\n",
    "    with open(new_factor_path + '{l}.csv', mode='r') as csv_file:\n",
    "        csv_reader = csv.reader(csv_file)\n",
    "\n",
    "        # get list of factors from csv\n",
    "        new_factor = list(csv_reader)\n",
    "\n",
    "        csv_file.close()\n",
    "    \n",
    "    # convert new_factor elements to floats\n",
    "    num_new_factor = []\n",
    "\n",
    "    for r in range(len(new_factor)):\n",
    "        num_new_factor.append(float(new_factor[r][0]))\n",
    "\n",
    "    #for r in range(len(new_factor)):\n",
    "    #    row = []\n",
    "    #    for c in range(len(new_factor[r])):\n",
    "    #        row.append(float(new_factor[r][c]))\n",
    "    #    num_new_factor.append(row)\n",
    "\n",
    "    corr_mat = np.corrcoef(num_benchmark_factor, num_new_factor)\n",
    "\n",
    "    seaborn.clustermap(corr_mat)"
   ]
  }
 ],
 "metadata": {
  "kernelspec": {
   "display_name": "base",
   "language": "python",
   "name": "python3"
  },
  "language_info": {
   "codemirror_mode": {
    "name": "ipython",
    "version": 3
   },
   "file_extension": ".py",
   "mimetype": "text/x-python",
   "name": "python",
   "nbconvert_exporter": "python",
   "pygments_lexer": "ipython3",
   "version": "3.9.13"
  },
  "orig_nbformat": 4,
  "vscode": {
   "interpreter": {
    "hash": "1d7418673a0aacf14a3144fff84695a701d8309c23224c786571908f2c59a39f"
   }
  }
 },
 "nbformat": 4,
 "nbformat_minor": 2
}
