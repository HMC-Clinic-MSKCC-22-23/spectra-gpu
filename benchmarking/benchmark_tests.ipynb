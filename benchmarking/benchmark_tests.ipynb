{
 "cells": [
  {
   "attachments": {},
   "cell_type": "markdown",
   "metadata": {},
   "source": [
    "# Benchmarking Test File\n",
    "\n",
    "Use this notebook to compare a run of SPECTRA with the benchmark data. \n",
    "\n",
    "The data you're comparing is in the folder marked \"benchmark_factors\" on the google drive. There is one csv for each factor, and each file is named the same as the factor you should be comparing it against.\n",
    "\n",
    "There are two main things we're looking at - pairwise correlation between each factor and the intersection of the genes that contribute to each factor."
   ]
  },
  {
   "cell_type": "code",
   "execution_count": 2,
   "metadata": {},
   "outputs": [],
   "source": [
    "# imports\n",
    "import re\n",
    "import scanpy as sc\n",
    "import seaborn\n",
    "import numpy as np\n",
    "import csv\n",
    "import pandas as pd"
   ]
  },
  {
   "attachments": {},
   "cell_type": "markdown",
   "metadata": {},
   "source": [
    "This is almost complete - we need to finalize where this data comes from to compare with in a new run. But once that is complete, we're good to go."
   ]
  },
  {
   "cell_type": "code",
   "execution_count": null,
   "metadata": {},
   "outputs": [],
   "source": [
    "# Importing files\n",
    "# file path for benchmark data - remember to CHANGE THE FILE PATH TO YOUR LOCAL PLACE YOU WANT THESE TO BE\n",
    "benchmark_path = \"C:\\\\Users\\\\phill\\\\Documents\\\\HMCFall22\\\\Clinic\\\\\"\n",
    "# file path for new data - remember to CHANGE THE FILE PATH TO YOUR LOCAL PLACE YOU WANT THESE TO BE\n",
    "new_factor_path = 'C:/Users/phill/Documents/HMCFall22/Clinic/SPECTRA-GPU/new_factors/'\n",
    "\n",
    "# new run - remember to CHANGE THE FILE PATH TO YOUR LOCAL PLACE YOU WANT THESE TO BE\n",
    "adata = sc.read_h5ad(benchmark_path + 'data_for_clinic_2023.h5ad')\n",
    "\n",
    "newMarkers = pd.DataFrame(adata.uns[\"SPECTRA_markers\"]).to_csv(new_factor_path + f\"markers.csv\", header=False, index=False)\n",
    "# this second one may throw an error, it's just a test\n",
    "newGeneScalings = pd.DataFrame(adata.obs[\"SPECTRA_gene_scalings\"]).to_csv(new_factor_path + f\"gene_scalings.csv\", header=False, index=False)\n",
    "\n",
    "# get full list (in order of gene names)\n",
    "gene_names = []\n",
    "with open(benchmark_path + 'gene_names.csv', mode='r') as csv_file:\n",
    "        csv_reader = csv.reader(csv_file)\n",
    "\n",
    "        # get list of factors from csv\n",
    "        gene_names = list(csv_reader)\n",
    "\n",
    "        csv_file.close()\n",
    "    \n",
    "\n",
    "# get full list of factor names\n",
    "factor_list = []\n",
    "with open(benchmark_path + 'factor_names.csv', mode='r') as csv_file:\n",
    "        csv_reader = csv.reader(csv_file)\n",
    "\n",
    "        # get list of factors from csv\n",
    "        factor_list = list(csv_reader)\n",
    "\n",
    "        csv_file.close()\n",
    "    \n"
   ]
  },
  {
   "attachments": {},
   "cell_type": "markdown",
   "metadata": {},
   "source": [
    "Needs to be done below\n",
    "- format the new data so that it aligns with what's below\n",
    "- AKA need to take the top N factors, map that to genes, and then perform the intersection\n",
    "- the code in the block below should be a rough sketch on how to do that.\n",
    "- then, either the gene_scalings or the factors ~should~ be enough to do the pairwise correlation"
   ]
  },
  {
   "cell_type": "code",
   "execution_count": null,
   "metadata": {},
   "outputs": [],
   "source": [
    "gene_loadings = [][] # this should be the markers\n",
    "for factor in range(len(gene_loadings)):\n",
    "    factor_name = gene_loadings[factor][0]\n",
    "    factor_dict = {}\n",
    "    for x in range(1, len(gene_loadings[factor])-1):\n",
    "        factor_dict[gene_names[x]] = gene_loadings[factor][x]\n",
    "\n",
    "    # sort dictionaries by gene score\n",
    "    sorted_genes = sorted(factor_dict.items(), key=lambda gene: gene[1], reverse=True)\n",
    "\n",
    "    # put sorted top N genes into csv for posterity - for now, all of them\n",
    "    with open(f'{factor_list[factor]}.csv', 'w') as test_file:\n",
    "        file_writer = csv.writer(test_file)\n",
    "        for i in range(len(sorted_genes[0])):\n",
    "            file_writer.writerow([x[i] for x in sorted_genes])"
   ]
  },
  {
   "cell_type": "code",
   "execution_count": 1,
   "metadata": {},
   "outputs": [
    {
     "ename": "IndentationError",
     "evalue": "expected an indented block (3081531705.py, line 5)",
     "output_type": "error",
     "traceback": [
      "\u001b[1;36m  Input \u001b[1;32mIn [1]\u001b[1;36m\u001b[0m\n\u001b[1;33m    \u001b[0m\n\u001b[1;37m    ^\u001b[0m\n\u001b[1;31mIndentationError\u001b[0m\u001b[1;31m:\u001b[0m expected an indented block\n"
     ]
    }
   ],
   "source": [
    "# Intersection between factors\n",
    "# for now assuming the anndata looks identical to the benchmark set we recieved.\n",
    "\n",
    "for l in factor_list:\n",
    "    benchmark_factor = []\n",
    "    new_factor = []\n",
    "    \n",
    "    # grab the benchmark data\n",
    "    with open(benchmark_path + '{l}_genes.csv', mode='r') as csv_file:\n",
    "        csv_reader = csv.reader(csv_file)\n",
    "\n",
    "        # get list of factors from csv\n",
    "        benchmark_factor = list(csv_reader)\n",
    "\n",
    "        csv_file.close()\n",
    "\n",
    "    # get the new run's data\n",
    "    with open(new_factor_path + '{l}_genes.csv', mode='r') as csv_file:\n",
    "        csv_reader = csv.reader(csv_file)\n",
    "\n",
    "        # get list of factors from csv\n",
    "        new_factor = list(csv_reader)\n",
    "\n",
    "        csv_file.close()\n",
    "\n",
    "\n",
    "\n",
    "    benchmark_factor_set = set(benchmark_factor)\n",
    "    new_factor_set = set(new_factor)\n",
    "\n",
    "    intersection_1 = benchmark_factor_set.intersection(new_factor_set) \n",
    "    average_unique_genes = (len(benchmark_factor_set) + len(new_factor_set))//2  \n",
    "\n",
    "    print(\"Intersection between genes for factor {l[0]}: \" + str(intersection_1))\n",
    "    print(\"Percent error of intersection: \" + str(round(abs(intersection_1 - average_unique_genes)/average_unique_genes, 4) * 100) + \"%\\n\\n\")\n"
   ]
  },
  {
   "cell_type": "code",
   "execution_count": null,
   "metadata": {},
   "outputs": [],
   "source": [
    "# Pairwise correlation \n",
    "\n",
    "for l in factor_list:\n",
    "    benchmark_factor = []\n",
    "    new_factor = []\n",
    "    \n",
    "    # grab the benchmark data\n",
    "    with open(benchmark_path + '{l}.csv', mode='r') as csv_file:\n",
    "        csv_reader = csv.reader(csv_file)\n",
    "\n",
    "        # get list of factors from csv\n",
    "        benchmark_factor = list(csv_reader)\n",
    "\n",
    "        csv_file.close()\n",
    "\n",
    "    # convert benchmark_factor elements to floats\n",
    "    num_benchmark_factor = []\n",
    "\n",
    "    for r in range(len(benchmark_factor)):\n",
    "        num_benchmark_factor.append(float(benchmark_factor[r][0]))\n",
    "\n",
    "    # get the new run's data\n",
    "    with open(new_factor_path + '{l}.csv', mode='r') as csv_file:\n",
    "        csv_reader = csv.reader(csv_file)\n",
    "\n",
    "        # get list of factors from csv\n",
    "        new_factor = list(csv_reader)\n",
    "\n",
    "        csv_file.close()\n",
    "    \n",
    "    # convert new_factor elements to floats\n",
    "    num_new_factor = []\n",
    "\n",
    "    for r in range(len(new_factor)):\n",
    "        num_new_factor.append(float(new_factor[r][0]))\n",
    "\n",
    "    #for r in range(len(new_factor)):\n",
    "    #    row = []\n",
    "    #    for c in range(len(new_factor[r])):\n",
    "    #        row.append(float(new_factor[r][c]))\n",
    "    #    num_new_factor.append(row)\n",
    "\n",
    "    corr_mat = np.corrcoef(num_benchmark_factor, num_new_factor)\n",
    "\n",
    "    seaborn.clustermap(corr_mat)"
   ]
  }
 ],
 "metadata": {
  "kernelspec": {
   "display_name": "base",
   "language": "python",
   "name": "python3"
  },
  "language_info": {
   "codemirror_mode": {
    "name": "ipython",
    "version": 3
   },
   "file_extension": ".py",
   "mimetype": "text/x-python",
   "name": "python",
   "nbconvert_exporter": "python",
   "pygments_lexer": "ipython3",
   "version": "3.9.13"
  },
  "orig_nbformat": 4,
  "vscode": {
   "interpreter": {
    "hash": "1d7418673a0aacf14a3144fff84695a701d8309c23224c786571908f2c59a39f"
   }
  }
 },
 "nbformat": 4,
 "nbformat_minor": 2
}
