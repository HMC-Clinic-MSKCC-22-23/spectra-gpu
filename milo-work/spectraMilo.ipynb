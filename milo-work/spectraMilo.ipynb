{
 "cells": [
  {
   "cell_type": "code",
   "execution_count": 29,
   "metadata": {},
   "outputs": [],
   "source": [
    "#import packages\n",
    "import numpy as np\n",
    "import scanpy as sc\n",
    "import pandas as pd\n",
    "import plotnine as pn\n",
    "import statistics as st\n",
    "import seaborn as sns\n",
    "import matplotlib.pyplot as plt\n",
    "import matplotlib.colors as mcolors\n",
    "import matplotlib.cm as cm\n",
    "pn.options.figure_size = (6,4)\n",
    "\n",
    "def sort_factors(X_norm_log: np.ndarray, cell_score_matrix: np.ndarray, gene_loading_matrix: np.ndarray, plot_path : str, method : str = \"explained_variance\"):\n",
    "\n",
    "    n_cells, _ = cell_score_matrix.shape\n",
    "\n",
    "    n_factors, n_genes = gene_loading_matrix.shape\n",
    "\n",
    "    # defined as variance of each selected gene divided by total variance\n",
    "    if method == \"explained_variance\":\n",
    "\n",
    "        # first, select top genes for each factor\n",
    "        top_genes = select_top_genes(gene_loading_matrix)\n",
    "\n",
    "        # calculate variance of each gene in cell x gene matrix\n",
    "        gene_variance = [X_norm_log[:,x].var() for x in range(n_genes)]\n",
    "        total_variance = sum(gene_variance)\n",
    "\n",
    "        # divide sum of genes' variance by total to get explained_variance for each factor\n",
    "        explained_variance = []\n",
    "\n",
    "        for curr_factor in range(n_factors):\n",
    "            explained_variance.append( sum([gene_variance[curr_gene] for curr_gene in top_genes[curr_factor]]) / total_variance)\n",
    "\n",
    "        # if a plot path is provided, plot the factors' explained variance\n",
    "        if plot_path:\n",
    "            plot = (pn.ggplot()\n",
    "                    + pn.aes(x = list(range(n_factors)), y = explained_variance)\n",
    "                    + pn.xlab(\"Factor\")\n",
    "                    + pn.ylab(\"Explained Variance\")\n",
    "                    + pn.geom_point()\n",
    "                    + pn.theme_bw())\n",
    "            \n",
    "            plot.save(f\"{plot_path}/factors_explained_variance.pdf\", dpi = 250, verbose = False)\n",
    "\n",
    "        # sort by explained variance, return indices of sorted factors by explained variance\n",
    "        sort_index = [factor for factor, _ in sorted(enumerate(explained_variance), key = lambda x: x[1], reverse = True)]\n",
    "\n",
    "\n",
    "    # defined as sum of highly_variable_genes(cell_ranger) dispersions of selected genes\n",
    "    elif method == \"gene_dispersions\":\n",
    "\n",
    "        # first, select top genes for each factor\n",
    "        top_genes = select_top_genes(gene_loading_matrix)\n",
    "\n",
    "        # perform highly_variable_genes\n",
    "        # the higher the 'dispersion' value, the more variation (according to \"highly_variable\" tag, backed up by variance)\n",
    "        dummy_adata = sc.AnnData(X_norm_log)\n",
    "        sc.pp.highly_variable_genes(dummy_adata, flavor = 'cell_ranger')\n",
    "\n",
    "        # sum all selected genes for each factor\n",
    "        sum_disp = []\n",
    "\n",
    "        for curr_factor in range(n_factors):\n",
    "            sum_disp.append(sum([dummy_adata.var[\"dispersions_norm\"][curr_gene] for curr_gene in top_genes[curr_factor]]))\n",
    "\n",
    "        # if a plot path is provided, plot the factors' explained variance\n",
    "        if plot_path:\n",
    "            plot = (pn.ggplot()\n",
    "                    + pn.aes(x = list(range(n_factors)), y = sum_disp)\n",
    "                    + pn.xlab(\"Factor\")\n",
    "                    + pn.ylab(\"Sum of Normalized Gene Dispersions\")\n",
    "                    + pn.geom_point()\n",
    "                    + pn.theme_bw())\n",
    "            \n",
    "            plot.save(f\"{plot_path}/factors_gene_dispersions.pdf\", dpi = 250, verbose = False)\n",
    "\n",
    "        # sort factors by their sum_disp\n",
    "        sort_index = [factor for factor, _ in sorted(enumerate(sum_disp), key = lambda x: x[1], reverse = True)]\n",
    "\n",
    "\n",
    "    # defined as highly_variable_genes(cell_ranger) dispersions of factors\n",
    "    elif method == \"factor_dispersions\":\n",
    "\n",
    "        # perform highly_variable_genes\n",
    "        # the higher the 'dispersion' value, the more variation\n",
    "        dummy_adata = sc.AnnData(cell_score_matrix)\n",
    "        sc.pp.highly_variable_genes(dummy_adata, flavor = 'cell_ranger')\n",
    "\n",
    "        factor_dispersions = dummy_adata.var[\"dispersions_norm\"].values \n",
    "\n",
    "        # if a plot path is provided, plot the factors' explained variance\n",
    "        if plot_path:\n",
    "            plot = (pn.ggplot()\n",
    "                    + pn.aes(x = list(range(n_factors)), y = factor_dispersions)\n",
    "                    + pn.xlab(\"Factor\")\n",
    "                    + pn.ylab(\"Normalized Dispersion\")\n",
    "                    + pn.geom_point()\n",
    "                    + pn.theme_bw())\n",
    "            \n",
    "            plot.save(f\"{plot_path}/factors_factor_dispersions.pdf\", dpi = 250, verbose = False)\n",
    "\n",
    "        # sort factors by their sum_disp\n",
    "        sort_index = [factor for factor, _ in sorted(enumerate(factor_dispersions), key = lambda x: x[1], reverse = True)]\n",
    "\n",
    "    else:\n",
    "        raise ValueError(\"Invalid method - select 'explained_variance', 'gene_dispersions', or 'factor_dispersions'\")\n",
    "\n",
    "    return sort_index\n",
    "\n",
    "\n",
    "def select_top_genes(gene_loading_matrix: np.ndarray):\n",
    "\n",
    "    n_factors = len(gene_loading_matrix)\n",
    "    top_genes = []\n",
    "\n",
    "    for curr_factor in range(n_factors):\n",
    "\n",
    "        curr_loadings = gene_loading_matrix[curr_factor]\n",
    "\n",
    "        curr_cutoff = st.mean(curr_loadings) + 2 * st.stdev(curr_loadings)\n",
    "\n",
    "        curr_top_genes = [idx for idx, value in enumerate(curr_loadings) if value > curr_cutoff]\n",
    "\n",
    "        top_genes.append(curr_top_genes)\n",
    "    \n",
    "    return top_genes"
   ]
  },
  {
   "cell_type": "code",
   "execution_count": 30,
   "metadata": {},
   "outputs": [],
   "source": [
    "### Perform factor downselection ###\n",
    "\n",
    "plot_path = \"./figures/\"\n",
    "\n",
    "adata = sc.read_h5ad(\"../../clean_myeloid.h5ad\")\n",
    "\n",
    "cell_scores = pd.read_csv(\"../../milo_cell_scores.csv\", index_col = False, header = None).to_numpy()\n",
    "\n",
    "gene_loadings = pd.read_csv(\"../../milo_gene_loadings.csv\", index_col = False, header = None).to_numpy()\n",
    "\n",
    "factor_list = sort_factors(adata.layers[\"norm_log\"], cell_scores, gene_loadings, plot_path, \"explained_variance\")\n",
    "\n",
    "# adata = sc.read_h5ad(\"../../new_annData.h5ad\")\n",
    "\n",
    "# factor_list = sort_factors(adata.X.toarray(), adata.obsm[\"SPECTRA_cell_scores\"], adata.uns[\"SPECTRA_factors\"], plot_path)"
   ]
  },
  {
   "cell_type": "code",
   "execution_count": 31,
   "metadata": {},
   "outputs": [],
   "source": [
    "### Select n_factors based on plotted factor ranks ###\n",
    "\n",
    "n_factors = 10\n",
    "factor_list = factor_list[:n_factors]"
   ]
  },
  {
   "cell_type": "code",
   "execution_count": 32,
   "metadata": {},
   "outputs": [
    {
     "name": "stdout",
     "output_type": "stream",
     "text": [
      "The rpy2.ipython extension is already loaded. To reload it, use:\n",
      "  %reload_ext rpy2.ipython\n"
     ]
    },
    {
     "name": "stderr",
     "output_type": "stream",
     "text": [
      "/tmp/ipykernel_2846178/777900332.py:7: FutureWarning: X.dtype being converted to np.float32 from float64. In the next version of anndata (0.9) conversion will not be automatic. Pass dtype explicitly to avoid this warning. Pass `AnnData(X, dtype=X.dtype, ...)` to get the future behavour.\n"
     ]
    }
   ],
   "source": [
    "### Begin Milo computation ###\n",
    "\n",
    "import rpy2\n",
    "import anndata2ri\n",
    "import os\n",
    "\n",
    "adata_milo = sc.AnnData(adata.layers['norm_log'].copy(), \n",
    "                        obs = adata.obs[['SampleID', 'Celltype_myeloid', 'condition']], \n",
    "                        var = adata.var)\n",
    "adata_milo.obsm['X_pca'] = cell_scores[:,factor_list]\n",
    "adata_milo.obsm['X_tsne'] = adata.obsm['X_tsne']\n",
    "adata_milo.obsm_keys\n",
    "\n",
    "\n",
    "design_df = adata_milo.obs[[\"condition\", \"SampleID\"]].copy()\n",
    "design_df.drop_duplicates(inplace=True)\n",
    "design_df.index = design_df['SampleID']\n",
    "design_df\n",
    "\n",
    "# anndata2ri interconverts AnnData and Single Cell Experiment objects\n",
    "anndata2ri.activate()\n",
    "%load_ext rpy2.ipython\n"
   ]
  },
  {
   "cell_type": "code",
   "execution_count": 33,
   "id": "c5840a99",
   "metadata": {},
   "outputs": [
    {
     "name": "stderr",
     "output_type": "stream",
     "text": [
      "R[write to console]: Constructing kNN graph with k:30\n",
      "\n"
     ]
    }
   ],
   "source": [
    "%%R -i adata_milo\n",
    "\n",
    "library(miloR)\n",
    "library(igraph)\n",
    "\n",
    "n_dims = ncol(reducedDim(adata_milo, \"PCA\"))\n",
    "\n",
    "myeloid_milo <- Milo(adata_milo)\n",
    "myeloid_milo <- buildGraph(myeloid_milo, k=30, d=n_dims, reduced.dim = \"PCA\")"
   ]
  },
  {
   "cell_type": "code",
   "execution_count": 34,
   "id": "8a4fcda7",
   "metadata": {},
   "outputs": [
    {
     "name": "stderr",
     "output_type": "stream",
     "text": [
      "R[write to console]: Checking valid object\n",
      "\n",
      "R[write to console]: Checking meta.data validity\n",
      "\n",
      "R[write to console]: Counting cells in neighbourhoods\n",
      "\n",
      "R[write to console]: Using TMM normalisation\n",
      "\n",
      "R[write to console]: Performing spatial FDR correction withk-distance weighting\n",
      "\n"
     ]
    }
   ],
   "source": [
    "%%R -i design_df -o DA_results_myeloid\n",
    "## Define neighbourhoods\n",
    "myeloid_milo <- makeNhoods(myeloid_milo, prop = 0.1, k = 30, d=n_dims, refined = TRUE, reduced_dims = \"PCA\")\n",
    "\n",
    "## Count cells in neighbourhoods\n",
    "myeloid_milo <- countCells(myeloid_milo, meta.data = data.frame(colData(myeloid_milo)), sample=\"SampleID\")\n",
    "\n",
    "## Calculate distances between cells in neighbourhoods\n",
    "## for spatial FDR correction\n",
    "myeloid_milo <- calcNhoodDistance(myeloid_milo, d=n_dims, reduced.dim = \"PCA\")\n",
    "\n",
    "## Test for differential abundance\n",
    "DA_results_myeloid <- testNhoods(myeloid_milo, design = ~condition, design.df = design_df)\n",
    "\n",
    "myeloid_milo <- buildNhoodGraph(myeloid_milo)"
   ]
  },
  {
   "cell_type": "code",
   "execution_count": 35,
   "id": "fcf5111c",
   "metadata": {},
   "outputs": [
    {
     "data": {
      "text/plain": [
       "Text(0, 0.5, '- log10(Spatial FDR)')"
      ]
     },
     "execution_count": 35,
     "metadata": {},
     "output_type": "execute_result"
    }
   ],
   "source": [
    "plt.plot(DA_results_myeloid.logFC, -np.log10(DA_results_myeloid.SpatialFDR), '.');\n",
    "plt.xlabel(\"log-Fold Change\");\n",
    "plt.ylabel(\"- log10(Spatial FDR)\")"
   ]
  },
  {
   "cell_type": "code",
   "execution_count": 36,
   "id": "a27caf48",
   "metadata": {},
   "outputs": [
    {
     "name": "stdout",
     "output_type": "stream",
     "text": [
      "Saving 8.33 x 6.25 in image\n",
      "Saving 8.33 x 6.25 in image\n",
      "Saving 8.33 x 6.25 in image\n",
      "Saving 8.33 x 6.25 in image\n"
     ]
    }
   ],
   "source": [
    "%%R -w 600 -h 450 -i plot_path\n",
    "library(ggplot2)\n",
    "alpha_val = 1\n",
    "for (j in c('SpatialFDR', 'FDR', 'PValue', 'logFC')){\n",
    "    p1 <- plotNhoodGraphDA(myeloid_milo, DA_results_myeloid, res_column = j, alpha=alpha_val, layout=\"TSNE\", \n",
    "                           size_range = c(2, 8), node_stroke =.8)\n",
    "    ggsave(paste0(plot_path, 'milor_R_myeloid_', j, '.pdf'), p1, dpi = 200)\n",
    "}"
   ]
  },
  {
   "cell_type": "code",
   "execution_count": 37,
   "id": "e46b8614",
   "metadata": {},
   "outputs": [
    {
     "name": "stdout",
     "output_type": "stream",
     "text": [
      "       logFC   logCPM          F    PValue       FDR Nhood SpatialFDR\n",
      "1 -0.1591509 13.12615 0.03552837 0.8505025 0.9335609     1  0.9486321\n",
      "2  1.0094906 12.96532 1.11177149 0.2917618 0.5173752     2  0.5653450\n",
      "3  0.9902796 13.07139 1.22850716 0.2677652 0.4927779     3  0.5380830\n",
      "4 -0.4097504 13.16620 0.23181260 0.6302098 0.8215235     4  0.8464519\n",
      "5  0.5532328 13.17814 0.37267383 0.5415856 0.7554602     5  0.7773876\n",
      "6  0.6607078 12.96605 0.51237434 0.4741552 0.6876821     6  0.7205620\n",
      "     Celltype_myeloid Celltype_myeloid_fraction   Myeloid_Celltypes\n",
      "1                cDC2                 1.0000000                cDC2\n",
      "2 Alveolar Macrophage                 1.0000000 Alveolar Macrophage\n",
      "3           CCR7 cDC2                 1.0000000           CCR7 cDC2\n",
      "4            Monocyte                 0.3181818               Mixed\n",
      "5      CSF3R Monocyte                 1.0000000      CSF3R Monocyte\n",
      "6 Alveolar Macrophage                 1.0000000 Alveolar Macrophage\n"
     ]
    }
   ],
   "source": [
    "%%R -o DA_results_myeloid\n",
    "DA_results_myeloid <- annotateNhoods(myeloid_milo, DA_results_myeloid, coldata_col = \"Celltype_myeloid\")\n",
    "DA_results_myeloid$Myeloid_Celltypes <- ifelse(DA_results_myeloid$Celltype_myeloid_fraction < 0.8, \"Mixed\", DA_results_myeloid$Celltype_myeloid)\n",
    "head(DA_results_myeloid)"
   ]
  },
  {
   "cell_type": "code",
   "execution_count": 38,
   "id": "daae8ef1",
   "metadata": {
    "scrolled": false
   },
   "outputs": [
    {
     "name": "stderr",
     "output_type": "stream",
     "text": [
      "/tmp/ipykernel_2846178/208525475.py:27: MatplotlibDeprecationWarning: Unable to determine Axes to steal space for Colorbar. Using gca(), but will raise in the future. Either provide the *cax* argument to use as the Axes for the Colorbar, provide the *ax* argument to steal space from it, or add *mappable* to an Axes.\n",
      "/tmp/ipykernel_2846178/208525475.py:28: UserWarning: FixedFormatter should only be used together with FixedLocator\n",
      "/tmp/ipykernel_2846178/208525475.py:27: MatplotlibDeprecationWarning: Unable to determine Axes to steal space for Colorbar. Using gca(), but will raise in the future. Either provide the *cax* argument to use as the Axes for the Colorbar, provide the *ax* argument to steal space from it, or add *mappable* to an Axes.\n",
      "/tmp/ipykernel_2846178/208525475.py:28: UserWarning: FixedFormatter should only be used together with FixedLocator\n",
      "/tmp/ipykernel_2846178/208525475.py:27: MatplotlibDeprecationWarning: Unable to determine Axes to steal space for Colorbar. Using gca(), but will raise in the future. Either provide the *cax* argument to use as the Axes for the Colorbar, provide the *ax* argument to steal space from it, or add *mappable* to an Axes.\n",
      "/tmp/ipykernel_2846178/208525475.py:28: UserWarning: FixedFormatter should only be used together with FixedLocator\n"
     ]
    }
   ],
   "source": [
    "for j, item in enumerate(['FDR', 'SpatialFDR', 'PValue']):\n",
    "    fig = plt.figure(figsize = (8, 12))\n",
    "    DA_results_myeloid['log_' + item] = -np.log10(DA_results_myeloid[item])\n",
    "    ax = fig.add_subplot(1, 1, 1)\n",
    "    plot = sns.stripplot(x='logFC', y='Myeloid_Celltypes', hue='log_' + item, data=DA_results_myeloid, size = 6, \n",
    "              palette='cividis', \n",
    "              jitter=0.2, edgecolor='none', ax = ax)\n",
    "    plot.get_legend().set_visible(False)\n",
    "    #ax.set_xticklabels(ax.get_xticks(), fontsize = 18)\n",
    "    #ax.set_yticklabels(ax.get_yticks(), fontsize = 18)\n",
    "    ax.tick_params(axis='both', which='major', labelsize=18)\n",
    "    ax.set_ylabel('Myeloid Celltypes', fontsize = 18)\n",
    "    ax.set_xlabel('logFC', fontsize = 18)\n",
    "    sns.despine()\n",
    "\n",
    "\n",
    "    # Drawing the side color bar\n",
    "    normalize = mcolors.Normalize(vmin=DA_results_myeloid['log_' + item].min(), \n",
    "                              vmax=DA_results_myeloid['log_' + item].max())\n",
    "    colormap = cm.cividis\n",
    "\n",
    "    for n in DA_results_myeloid['log_' + item]:\n",
    "        plt.plot(color=colormap(normalize(n)))\n",
    "\n",
    "    scalarmappaple = cm.ScalarMappable(norm=normalize, cmap=colormap)\n",
    "    scalarmappaple.set_array(DA_results_myeloid['log_' + item])\n",
    "    cbar = fig.colorbar(scalarmappaple)\n",
    "    cbar.ax.set_yticklabels(cbar.ax.get_yticks(), fontsize = 18)\n",
    "    cbar.ax.set_ylabel('-log10(' + item + ')',  labelpad = 20, rotation=90, fontsize = 18)\n",
    "    ax.grid(False)\n",
    "    fig.savefig(plot_path + 'milor_myeloid_swarmplot_colored_by_log_' + item + '.pdf', dpi = 300, \n",
    "                bbox_inches = 'tight')"
   ]
  }
 ],
 "metadata": {
  "interpreter": {
   "hash": "e0d091042142f08f95fbe24eea5f30d9f84a0503ed0a5ab9d4f63f212faef8cd"
  },
  "kernelspec": {
   "display_name": "Python 3.10.2 64-bit",
   "language": "python",
   "name": "python3"
  },
  "language_info": {
   "codemirror_mode": {
    "name": "ipython",
    "version": 3
   },
   "file_extension": ".py",
   "mimetype": "text/x-python",
   "name": "python",
   "nbconvert_exporter": "python",
   "pygments_lexer": "ipython3",
   "version": "3.10.6"
  },
  "orig_nbformat": 4
 },
 "nbformat": 4,
 "nbformat_minor": 2
}
