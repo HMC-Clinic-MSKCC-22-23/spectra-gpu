{
 "cells": [
  {
   "cell_type": "code",
   "execution_count": 2,
   "metadata": {},
   "outputs": [
    {
     "name": "stderr",
     "output_type": "stream",
     "text": [
      "/home/clinic/.local/lib/python3.10/site-packages/tqdm/auto.py:22: TqdmWarning: IProgress not found. Please update jupyter and ipywidgets. See https://ipywidgets.readthedocs.io/en/stable/user_install.html\n",
      "  from .autonotebook import tqdm as notebook_tqdm\n"
     ]
    }
   ],
   "source": [
    "#import packages\n",
    "import numpy as np\n",
    "import scanpy as sc\n",
    "from collections import OrderedDict\n",
    "import scipy\n",
    "import pandas as pd\n",
    "\n",
    "#spectra imports \n",
    "from spectra import spectra as spc\n",
    "from spectra import spectra_util as util"
   ]
  },
  {
   "cell_type": "code",
   "execution_count": 3,
   "metadata": {},
   "outputs": [],
   "source": [
    "adata = sc.read_h5ad(\"../../clean_myeloid.h5ad\")"
   ]
  },
  {
   "cell_type": "code",
   "execution_count": 9,
   "metadata": {},
   "outputs": [
    {
     "name": "stdout",
     "output_type": "stream",
     "text": [
      "['Clusters', 'Celltype', 'SampleID', 'name', 'background', 'condition', 'replicate', 'experiment', 'ncells', 'libsize', 'mito_fraction', 'ribo_fraction', 'mhc_fraction', 'actin_fraction', 'cytoskeleton_fraction', 'malat1_fraction', 'scrublet_predict', 'scrublet_score', 'lowlibsize', 'Clusters_myeloid', 'Celltype_myeloid']\n"
     ]
    }
   ],
   "source": [
    "adata.obs_keys()"
   ]
  },
  {
   "cell_type": "code",
   "execution_count": 1,
   "metadata": {},
   "outputs": [],
   "source": [
    "annotations = {\n",
    "    'global': {},\n",
    "    'Alveolar Macrophage': {\n",
    "        'gene-set':['MARCO', 'KRT79', 'KRT19', 'CAR4', 'CHIL3']\n",
    "    },\n",
    "    'ARG1 Macrophage': {\n",
    "        'mouse-1':['CCL17', 'CCR5', 'MAFB', 'CD86', 'ARG1'],\n",
    "        'mouse-2':['GPNMB', 'SPP1', 'CD68']\n",
    "    },\n",
    "    'C1QA Macrophage': {\n",
    "        'canonical':['CSF1R', 'MRC1', 'APOE', 'C1QA', 'C1QB', 'C1QC', 'CTSB', 'CTSD']\n",
    "    },\n",
    "    'CCR7 cDC2': {\n",
    "        'gene-set':['FSCN1', 'CCR7', 'LY75', 'CCL22', 'CD40', 'BIRC3', 'NFKB2', 'IL12B',\n",
    "            'MARCKSL1', 'CD274', 'TNFRSF9', 'SEMA7A', 'STAT4']\n",
    "    },\n",
    "    'cDC1': {\n",
    "        'gene-set':['XCR1', 'CLEC9A', 'CADM1', 'BATF3', 'IRF8']\n",
    "    },\n",
    "    'cDC2': {\n",
    "        'gene-set':['ZBTB46', 'CD207', 'IRF4', 'CEBPB', 'LILRB4A', 'ITGAX']\n",
    "    },\n",
    "    'CSF3R Monocyte': {\n",
    "        'neutrophil-like':['S100A8', 'S100A9', 'CSF3R', 'IL1B']\n",
    "    },\n",
    "    'Monocyte': {\n",
    "        'classical':['FN1', 'F13A1', 'VCAN', 'LY6C1', 'LY6C2', 'CCR2'],\n",
    "        'non-classical':['ITGAL', 'CX3CR1', 'FCGR4', 'CD300E', 'ACE']\n",
    "    },\n",
    "    'pDC': {\n",
    "        'gene-set':['TCF4', 'PLD4', 'BCL11A', 'RUNX2', 'SIGLECH', 'CCR9', 'BST2']\n",
    "    }\n",
    "}"
   ]
  },
  {
   "cell_type": "code",
   "execution_count": 5,
   "metadata": {},
   "outputs": [],
   "source": [
    "for cell_type_dict in annotations.values():\n",
    "    for gene_set in cell_type_dict.values():\n",
    "        for gene in gene_set:\n",
    "            if gene not in adata.var.index:\n",
    "                print(gene)"
   ]
  },
  {
   "cell_type": "code",
   "execution_count": 6,
   "metadata": {},
   "outputs": [],
   "source": [
    "vocab = adata.var_names\n",
    "gene2id = dict((v, idx) for idx, v in enumerate(vocab))\n",
    "word2id = dict((v, idx) for idx, v in enumerate(vocab))"
   ]
  },
  {
   "cell_type": "code",
   "execution_count": 11,
   "metadata": {},
   "outputs": [
    {
     "name": "stdout",
     "output_type": "stream",
     "text": [
      "Cell type labels in gene set annotation dictionary and AnnData object are identical\n",
      "Your gene set annotation dictionary is correctly formatted.\n"
     ]
    },
    {
     "data": {
      "text/plain": [
       "{'global': {},\n",
       " 'Alveolar Macrophage': {'gene-set1': ['MARCO',\n",
       "   'KRT79',\n",
       "   'KRT19',\n",
       "   'CAR4',\n",
       "   'CHIL3']},\n",
       " 'ARG1 Macrophage': {'mouse-1': ['CCL17', 'CCR5', 'MAFB', 'CD86', 'ARG1'],\n",
       "  'mouse-2': ['GPNMB', 'SPP1', 'CD68']},\n",
       " 'C1QA Macrophage': {'canonical': ['CSF1R',\n",
       "   'MRC1',\n",
       "   'APOE',\n",
       "   'C1QA',\n",
       "   'C1QB',\n",
       "   'C1QC',\n",
       "   'CTSB',\n",
       "   'CTSD']},\n",
       " 'CCR7 cDC2': {'gene-set2': ['FSCN1',\n",
       "   'CCR7',\n",
       "   'LY75',\n",
       "   'CCL22',\n",
       "   'CD40',\n",
       "   'BIRC3',\n",
       "   'NFKB2',\n",
       "   'IL12B',\n",
       "   'MARCKSL1',\n",
       "   'CD274',\n",
       "   'TNFRSF9',\n",
       "   'SEMA7A',\n",
       "   'STAT4']},\n",
       " 'cDC1': {'gene-set3': ['XCR1', 'CLEC9A', 'CADM1', 'BATF3', 'IRF8']},\n",
       " 'cDC2': {'gene-set4': ['ZBTB46',\n",
       "   'CD207',\n",
       "   'IRF4',\n",
       "   'CEBPB',\n",
       "   'LILRB4A',\n",
       "   'ITGAX']},\n",
       " 'CSF3R Monocyte': {'neutrophil-like': ['S100A8', 'S100A9', 'CSF3R', 'IL1B']},\n",
       " 'Monocyte': {'classical': ['FN1', 'F13A1', 'VCAN', 'LY6C1', 'LY6C2', 'CCR2'],\n",
       "  'non-classical': ['ITGAL', 'CX3CR1', 'FCGR4', 'CD300E', 'ACE']},\n",
       " 'pDC': {'gene-set5': ['TCF4',\n",
       "   'PLD4',\n",
       "   'BCL11A',\n",
       "   'RUNX2',\n",
       "   'SIGLECH',\n",
       "   'CCR9',\n",
       "   'BST2']}}"
      ]
     },
     "execution_count": 11,
     "metadata": {},
     "output_type": "execute_result"
    }
   ],
   "source": [
    "def check_gene_set_dictionary(adata, annotations, obs_key='cell_type_annotations',global_key='global', return_dict = True):\n",
    "    '''\n",
    "    Filters annotations dictionary contains only genes contained in the adata. \n",
    "    Checks that annotations dictionary cell type keys and adata cell types are identical.\n",
    "    Checks that all gene sets in annotations dictionary contain >2 genes after filtering.\n",
    "    \n",
    "    adata: AnnData , data to use with Spectra\n",
    "    annotations: dict , gene set annotations dictionary to use with Spectra\n",
    "    obs_key: str , column name for cell type annotations in adata.obs\n",
    "    global_key: str , key for global gene sests in gene set annotation dictionary\n",
    "    return_dict: bool , return filtered gene set annotation dictionary\n",
    "    \n",
    "    returns: dict , filtered gene set annotation dictionary\n",
    "    \n",
    "    '''\n",
    "    #test if keys match\n",
    "    adata_labels  = list(set(adata.obs[obs_key]))+['global']#cell type labels in adata object\n",
    "    annotation_labels = list(annotations.keys())\n",
    "    matching_celltype_labels = list(set(adata_labels).intersection(annotation_labels))\n",
    "    if set(annotation_labels)==set(adata_labels):\n",
    "        print('Cell type labels in gene set annotation dictionary and AnnData object are identical')\n",
    "        dict_keys_OK = True\n",
    "    if len(annotation_labels):\n",
    "        Counter = 0\n",
    "        annotations_new = {}\n",
    "        for k,v in annotations.items():\n",
    "            annotations_new[k] = {}\n",
    "            for k2,v2 in v.items():\n",
    "                annotations_new[k][k2]= [x for x in v2 if x in adata.var_names]\n",
    "                length = len(v2)\n",
    "                if length<3:\n",
    "                    print('gene set',k2,'for cell type',k,'is of length',length)\n",
    "                    Counter = Counter+1\n",
    "            \n",
    "    if Counter > 0:\n",
    "        print(Counter,'gene sets are too small. Gene sets must contain at least 3 genes')\n",
    "    elif Counter == 0 and dict_keys_OK:\n",
    "        print('Your gene set annotation dictionary is correctly formatted.')\n",
    "    if return_dict:\n",
    "        return annotations_new\n",
    "     \n",
    "check_gene_set_dictionary(adata, annotations, \"Celltype_myeloid\")"
   ]
  },
  {
   "cell_type": "code",
   "execution_count": 12,
   "metadata": {},
   "outputs": [
    {
     "name": "stderr",
     "output_type": "stream",
     "text": [
      "/home/clinic/.local/lib/python3.10/site-packages/numpy/core/fromnumeric.py:3432: RuntimeWarning: Mean of empty slice.\n",
      "  return _methods._mean(a, axis=axis, dtype=dtype,\n"
     ]
    },
    {
     "ename": "FloatingPointError",
     "evalue": "invalid value encountered in double_scalars",
     "output_type": "error",
     "traceback": [
      "\u001b[0;31m---------------------------------------------------------------------------\u001b[0m",
      "\u001b[0;31mFloatingPointError\u001b[0m                        Traceback (most recent call last)",
      "Cell \u001b[0;32mIn[12], line 3\u001b[0m\n\u001b[1;32m      1\u001b[0m np\u001b[39m.\u001b[39mseterr(\u001b[39m'\u001b[39m\u001b[39mraise\u001b[39m\u001b[39m'\u001b[39m)\n\u001b[0;32m----> 3\u001b[0m model \u001b[39m=\u001b[39m spc\u001b[39m.\u001b[39;49mest_spectra(adata \u001b[39m=\u001b[39;49m adata, gene_set_dictionary \u001b[39m=\u001b[39;49m annotations, \n\u001b[1;32m      4\u001b[0m                         use_highly_variable \u001b[39m=\u001b[39;49m \u001b[39mFalse\u001b[39;49;00m, cell_type_key \u001b[39m=\u001b[39;49m \u001b[39m'\u001b[39;49m\u001b[39mCelltype_myeloid\u001b[39;49m\u001b[39m'\u001b[39;49m,\n\u001b[1;32m      5\u001b[0m                         use_weights \u001b[39m=\u001b[39;49m \u001b[39mTrue\u001b[39;49;00m, lam \u001b[39m=\u001b[39;49m \u001b[39m0.1\u001b[39;49m, \n\u001b[1;32m      6\u001b[0m                         delta \u001b[39m=\u001b[39;49m \u001b[39m0.001\u001b[39;49m,kappa \u001b[39m=\u001b[39;49m \u001b[39m0.00001\u001b[39;49m, rho \u001b[39m=\u001b[39;49m \u001b[39m0.00001\u001b[39;49m, \n\u001b[1;32m      7\u001b[0m                         use_cell_types \u001b[39m=\u001b[39;49m \u001b[39mTrue\u001b[39;49;00m, \u001b[39m#set to False to not use the cell type annotations\u001b[39;49;00m\n\u001b[1;32m      8\u001b[0m                         n_top_vals \u001b[39m=\u001b[39;49m \u001b[39m25\u001b[39;49m, \n\u001b[1;32m      9\u001b[0m                         num_epochs \u001b[39m=\u001b[39;49m \u001b[39m5000\u001b[39;49m \u001b[39m#for demonstration purposes we will only run 2 epochs, we recommend 10,000 epochs\u001b[39;49;00m\n\u001b[1;32m     10\u001b[0m                        )\n",
      "File \u001b[0;32m~/.local/lib/python3.10/site-packages/spectra/spectra.py:1219\u001b[0m, in \u001b[0;36mest_spectra\u001b[0;34m(adata, gene_set_dictionary, L, use_highly_variable, cell_type_key, use_weights, lam, delta, kappa, rho, use_cell_types, n_top_vals, filter_sets, **kwargs)\u001b[0m\n\u001b[1;32m   1216\u001b[0m \u001b[39melse\u001b[39;00m:\n\u001b[1;32m   1217\u001b[0m     init_scores \u001b[39m=\u001b[39m \u001b[39mNone\u001b[39;00m\n\u001b[0;32m-> 1219\u001b[0m spectra \u001b[39m=\u001b[39m SPECTRA_Model(X \u001b[39m=\u001b[39;49m X, labels \u001b[39m=\u001b[39;49m labels,  L \u001b[39m=\u001b[39;49m L, vocab \u001b[39m=\u001b[39;49m vocab, gs_dict \u001b[39m=\u001b[39;49m gene_set_dictionary, use_weights \u001b[39m=\u001b[39;49m use_weights, lam \u001b[39m=\u001b[39;49m lam, delta\u001b[39m=\u001b[39;49mdelta,kappa \u001b[39m=\u001b[39;49m kappa, rho \u001b[39m=\u001b[39;49m rho, use_cell_types \u001b[39m=\u001b[39;49m use_cell_types)\n\u001b[1;32m   1221\u001b[0m spectra\u001b[39m.\u001b[39minitialize(gene_set_dictionary, word2id, X, init_scores)\n\u001b[1;32m   1223\u001b[0m spectra\u001b[39m.\u001b[39mtrain(X \u001b[39m=\u001b[39m X, labels \u001b[39m=\u001b[39m labels,\u001b[39m*\u001b[39m\u001b[39m*\u001b[39mkwargs)\n",
      "File \u001b[0;32m~/.local/lib/python3.10/site-packages/spectra/spectra.py:536\u001b[0m, in \u001b[0;36mSPECTRA_Model.__init__\u001b[0;34m(self, X, labels, L, vocab, gs_dict, use_weights, adj_matrix, weights, lam, delta, kappa, rho, use_cell_types)\u001b[0m\n\u001b[1;32m    533\u001b[0m gene2id \u001b[39m=\u001b[39m \u001b[39mdict\u001b[39m((v, idx) \u001b[39mfor\u001b[39;00m idx, v \u001b[39min\u001b[39;00m \u001b[39menumerate\u001b[39m(vocab))\n\u001b[1;32m    535\u001b[0m \u001b[39mif\u001b[39;00m use_cell_types:\n\u001b[0;32m--> 536\u001b[0m     adj_matrix, weights \u001b[39m=\u001b[39m spectra_util\u001b[39m.\u001b[39;49mprocess_gene_sets(gs_dict \u001b[39m=\u001b[39;49m gs_dict, gene2id \u001b[39m=\u001b[39;49m gene2id, weighted \u001b[39m=\u001b[39;49m use_weights)\n\u001b[1;32m    537\u001b[0m \u001b[39melse\u001b[39;00m:\n\u001b[1;32m    538\u001b[0m     adj_matrix, weights \u001b[39m=\u001b[39m spectra_util\u001b[39m.\u001b[39mprocess_gene_sets_no_celltypes(gs_dict \u001b[39m=\u001b[39m gs_dict, gene2id \u001b[39m=\u001b[39m gene2id, weighted \u001b[39m=\u001b[39m use_weights)\n",
      "File \u001b[0;32m~/.local/lib/python3.10/site-packages/spectra/spectra_util.py:76\u001b[0m, in \u001b[0;36mprocess_gene_sets\u001b[0;34m(gs_dict, gene2id, weighted)\u001b[0m\n\u001b[1;32m     74\u001b[0m \u001b[39mif\u001b[39;00m weighted:\n\u001b[1;32m     75\u001b[0m     weights \u001b[39m=\u001b[39m OrderedDict()\n\u001b[0;32m---> 76\u001b[0m     weights[\u001b[39m\"\u001b[39m\u001b[39mglobal\u001b[39m\u001b[39m\"\u001b[39m] \u001b[39m=\u001b[39m amatrix_weighted(unravel_dict(gs_dict[\u001b[39m\"\u001b[39;49m\u001b[39mglobal\u001b[39;49m\u001b[39m\"\u001b[39;49m]), gene2id)\n\u001b[1;32m     78\u001b[0m \u001b[39mfor\u001b[39;00m key \u001b[39min\u001b[39;00m gs_dict\u001b[39m.\u001b[39mkeys():\n\u001b[1;32m     79\u001b[0m     \u001b[39mif\u001b[39;00m \u001b[39mlen\u001b[39m(gs_dict[key]) \u001b[39m>\u001b[39m \u001b[39m0\u001b[39m:\n",
      "File \u001b[0;32m~/.local/lib/python3.10/site-packages/spectra/spectra_util.py:57\u001b[0m, in \u001b[0;36mamatrix_weighted\u001b[0;34m(gene_set_list, gene2id)\u001b[0m\n\u001b[1;32m     55\u001b[0m             \u001b[39mif\u001b[39;00m (g1 \u001b[39min\u001b[39;00m gene2id)\u001b[39m&\u001b[39m(g2 \u001b[39min\u001b[39;00m gene2id):\n\u001b[1;32m     56\u001b[0m                 adj_matrix[gene2id[g1],gene2id[g2]] \u001b[39m+\u001b[39m\u001b[39m=\u001b[39m w\n\u001b[0;32m---> 57\u001b[0m med \u001b[39m=\u001b[39m np\u001b[39m.\u001b[39;49mmedian(np\u001b[39m.\u001b[39;49marray(ws))\n\u001b[1;32m     58\u001b[0m \u001b[39mreturn\u001b[39;00m adj_matrix\u001b[39m/\u001b[39m\u001b[39mfloat\u001b[39m(med)\n",
      "File \u001b[0;32m<__array_function__ internals>:180\u001b[0m, in \u001b[0;36mmedian\u001b[0;34m(*args, **kwargs)\u001b[0m\n",
      "File \u001b[0;32m~/.local/lib/python3.10/site-packages/numpy/lib/function_base.py:3816\u001b[0m, in \u001b[0;36mmedian\u001b[0;34m(a, axis, out, overwrite_input, keepdims)\u001b[0m\n\u001b[1;32m   3734\u001b[0m \u001b[39m@array_function_dispatch\u001b[39m(_median_dispatcher)\n\u001b[1;32m   3735\u001b[0m \u001b[39mdef\u001b[39;00m \u001b[39mmedian\u001b[39m(a, axis\u001b[39m=\u001b[39m\u001b[39mNone\u001b[39;00m, out\u001b[39m=\u001b[39m\u001b[39mNone\u001b[39;00m, overwrite_input\u001b[39m=\u001b[39m\u001b[39mFalse\u001b[39;00m, keepdims\u001b[39m=\u001b[39m\u001b[39mFalse\u001b[39;00m):\n\u001b[1;32m   3736\u001b[0m \u001b[39m    \u001b[39m\u001b[39m\"\"\"\u001b[39;00m\n\u001b[1;32m   3737\u001b[0m \u001b[39m    Compute the median along the specified axis.\u001b[39;00m\n\u001b[1;32m   3738\u001b[0m \n\u001b[0;32m   (...)\u001b[0m\n\u001b[1;32m   3814\u001b[0m \n\u001b[1;32m   3815\u001b[0m \u001b[39m    \"\"\"\u001b[39;00m\n\u001b[0;32m-> 3816\u001b[0m     r, k \u001b[39m=\u001b[39m _ureduce(a, func\u001b[39m=\u001b[39;49m_median, axis\u001b[39m=\u001b[39;49maxis, out\u001b[39m=\u001b[39;49mout,\n\u001b[1;32m   3817\u001b[0m                     overwrite_input\u001b[39m=\u001b[39;49moverwrite_input)\n\u001b[1;32m   3818\u001b[0m     \u001b[39mif\u001b[39;00m keepdims:\n\u001b[1;32m   3819\u001b[0m         \u001b[39mreturn\u001b[39;00m r\u001b[39m.\u001b[39mreshape(k)\n",
      "File \u001b[0;32m~/.local/lib/python3.10/site-packages/numpy/lib/function_base.py:3725\u001b[0m, in \u001b[0;36m_ureduce\u001b[0;34m(a, func, **kwargs)\u001b[0m\n\u001b[1;32m   3722\u001b[0m \u001b[39melse\u001b[39;00m:\n\u001b[1;32m   3723\u001b[0m     keepdim \u001b[39m=\u001b[39m (\u001b[39m1\u001b[39m,) \u001b[39m*\u001b[39m a\u001b[39m.\u001b[39mndim\n\u001b[0;32m-> 3725\u001b[0m r \u001b[39m=\u001b[39m func(a, \u001b[39m*\u001b[39;49m\u001b[39m*\u001b[39;49mkwargs)\n\u001b[1;32m   3726\u001b[0m \u001b[39mreturn\u001b[39;00m r, keepdim\n",
      "File \u001b[0;32m~/.local/lib/python3.10/site-packages/numpy/lib/function_base.py:3870\u001b[0m, in \u001b[0;36m_median\u001b[0;34m(a, axis, out, overwrite_input)\u001b[0m\n\u001b[1;32m   3866\u001b[0m indexer \u001b[39m=\u001b[39m \u001b[39mtuple\u001b[39m(indexer)\n\u001b[1;32m   3868\u001b[0m \u001b[39m# Use mean in both odd and even case to coerce data type,\u001b[39;00m\n\u001b[1;32m   3869\u001b[0m \u001b[39m# using out array if needed.\u001b[39;00m\n\u001b[0;32m-> 3870\u001b[0m rout \u001b[39m=\u001b[39m mean(part[indexer], axis\u001b[39m=\u001b[39;49maxis, out\u001b[39m=\u001b[39;49mout)\n\u001b[1;32m   3871\u001b[0m \u001b[39m# Check if the array contains any nan's\u001b[39;00m\n\u001b[1;32m   3872\u001b[0m \u001b[39mif\u001b[39;00m np\u001b[39m.\u001b[39missubdtype(a\u001b[39m.\u001b[39mdtype, np\u001b[39m.\u001b[39minexact) \u001b[39mand\u001b[39;00m sz \u001b[39m>\u001b[39m \u001b[39m0\u001b[39m:\n\u001b[1;32m   3873\u001b[0m     \u001b[39m# If nans are possible, warn and replace by nans like mean would.\u001b[39;00m\n",
      "File \u001b[0;32m<__array_function__ internals>:180\u001b[0m, in \u001b[0;36mmean\u001b[0;34m(*args, **kwargs)\u001b[0m\n",
      "File \u001b[0;32m~/.local/lib/python3.10/site-packages/numpy/core/fromnumeric.py:3432\u001b[0m, in \u001b[0;36mmean\u001b[0;34m(a, axis, dtype, out, keepdims, where)\u001b[0m\n\u001b[1;32m   3429\u001b[0m     \u001b[39melse\u001b[39;00m:\n\u001b[1;32m   3430\u001b[0m         \u001b[39mreturn\u001b[39;00m mean(axis\u001b[39m=\u001b[39maxis, dtype\u001b[39m=\u001b[39mdtype, out\u001b[39m=\u001b[39mout, \u001b[39m*\u001b[39m\u001b[39m*\u001b[39mkwargs)\n\u001b[0;32m-> 3432\u001b[0m \u001b[39mreturn\u001b[39;00m _methods\u001b[39m.\u001b[39;49m_mean(a, axis\u001b[39m=\u001b[39;49maxis, dtype\u001b[39m=\u001b[39;49mdtype,\n\u001b[1;32m   3433\u001b[0m                       out\u001b[39m=\u001b[39;49mout, \u001b[39m*\u001b[39;49m\u001b[39m*\u001b[39;49mkwargs)\n",
      "File \u001b[0;32m~/.local/lib/python3.10/site-packages/numpy/core/_methods.py:190\u001b[0m, in \u001b[0;36m_mean\u001b[0;34m(a, axis, dtype, out, keepdims, where)\u001b[0m\n\u001b[1;32m    188\u001b[0m         ret \u001b[39m=\u001b[39m arr\u001b[39m.\u001b[39mdtype\u001b[39m.\u001b[39mtype(ret \u001b[39m/\u001b[39m rcount)\n\u001b[1;32m    189\u001b[0m     \u001b[39melse\u001b[39;00m:\n\u001b[0;32m--> 190\u001b[0m         ret \u001b[39m=\u001b[39m ret\u001b[39m.\u001b[39mdtype\u001b[39m.\u001b[39mtype(ret \u001b[39m/\u001b[39;49m rcount)\n\u001b[1;32m    191\u001b[0m \u001b[39melse\u001b[39;00m:\n\u001b[1;32m    192\u001b[0m     ret \u001b[39m=\u001b[39m ret \u001b[39m/\u001b[39m rcount\n",
      "\u001b[0;31mFloatingPointError\u001b[0m: invalid value encountered in double_scalars"
     ]
    }
   ],
   "source": [
    "np.seterr('raise')\n",
    "\n",
    "model = spc.est_spectra(adata = adata, gene_set_dictionary = annotations, \n",
    "                        use_highly_variable = False, cell_type_key = 'Celltype_myeloid',\n",
    "                        use_weights = True, lam = 0.1, \n",
    "                        delta = 0.001,kappa = 0.00001, rho = 0.00001, \n",
    "                        use_cell_types = True, #set to False to not use the cell type annotations\n",
    "                        n_top_vals = 25, \n",
    "                        num_epochs = 5000 #for demonstration purposes we will only run 2 epochs, we recommend 10,000 epochs\n",
    "                       )"
   ]
  }
 ],
 "metadata": {
  "kernelspec": {
   "display_name": "Python 3",
   "language": "python",
   "name": "python3"
  },
  "language_info": {
   "codemirror_mode": {
    "name": "ipython",
    "version": 3
   },
   "file_extension": ".py",
   "mimetype": "text/x-python",
   "name": "python",
   "nbconvert_exporter": "python",
   "pygments_lexer": "ipython3",
   "version": "3.10.6"
  },
  "orig_nbformat": 4,
  "vscode": {
   "interpreter": {
    "hash": "916dbcbb3f70747c44a77c7bcd40155683ae19c65e1c03b4aa3499c5328201f1"
   }
  }
 },
 "nbformat": 4,
 "nbformat_minor": 2
}
