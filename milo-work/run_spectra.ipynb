{
 "cells": [
  {
   "cell_type": "code",
   "execution_count": 1,
   "metadata": {},
   "outputs": [
    {
     "name": "stderr",
     "output_type": "stream",
     "text": [
      "/home/clinic/.local/lib/python3.10/site-packages/tqdm/auto.py:22: TqdmWarning: IProgress not found. Please update jupyter and ipywidgets. See https://ipywidgets.readthedocs.io/en/stable/user_install.html\n",
      "  from .autonotebook import tqdm as notebook_tqdm\n"
     ]
    }
   ],
   "source": [
    "#import packages\n",
    "import numpy as np\n",
    "import scanpy as sc\n",
    "from collections import OrderedDict\n",
    "import scipy\n",
    "import pandas as pd\n",
    "\n",
    "#spectra imports \n",
    "from spectra import spectra as spc\n",
    "from spectra import spectra_util as util"
   ]
  },
  {
   "cell_type": "code",
   "execution_count": 2,
   "metadata": {},
   "outputs": [],
   "source": [
    "adata = sc.read_h5ad(\"../../clean_myeloid.h5ad\")"
   ]
  },
  {
   "cell_type": "code",
   "execution_count": 14,
   "metadata": {},
   "outputs": [
    {
     "data": {
      "text/plain": [
       "['Clusters',\n",
       " 'Celltype',\n",
       " 'SampleID',\n",
       " 'name',\n",
       " 'background',\n",
       " 'condition',\n",
       " 'replicate',\n",
       " 'experiment',\n",
       " 'ncells',\n",
       " 'libsize',\n",
       " 'mito_fraction',\n",
       " 'ribo_fraction',\n",
       " 'mhc_fraction',\n",
       " 'actin_fraction',\n",
       " 'cytoskeleton_fraction',\n",
       " 'malat1_fraction',\n",
       " 'scrublet_predict',\n",
       " 'scrublet_score',\n",
       " 'lowlibsize',\n",
       " 'Clusters_myeloid',\n",
       " 'Celltype_myeloid']"
      ]
     },
     "execution_count": 14,
     "metadata": {},
     "output_type": "execute_result"
    }
   ],
   "source": [
    "adata.obs_keys()"
   ]
  },
  {
   "cell_type": "code",
   "execution_count": 4,
   "metadata": {},
   "outputs": [
    {
     "data": {
      "text/plain": [
       "['CSF3R Monocyte', 'Monocyte', 'cDC2', 'Alveolar Macrophage', 'ARG1 Macrophage', 'C1QA Macrophage', 'cDC1', 'CCR7 cDC2', 'pDC']\n",
       "Categories (9, object): ['ARG1 Macrophage', 'Alveolar Macrophage', 'C1QA Macrophage', 'CCR7 cDC2', ..., 'Monocyte', 'cDC1', 'cDC2', 'pDC']"
      ]
     },
     "execution_count": 4,
     "metadata": {},
     "output_type": "execute_result"
    }
   ],
   "source": [
    "adata.obs['Celltype_myeloid'].unique()"
   ]
  },
  {
   "cell_type": "code",
   "execution_count": 5,
   "metadata": {},
   "outputs": [],
   "source": [
    "annotations = {\n",
    "    'global': {},\n",
    "    'Alveolar Macrophage': {\n",
    "        'gene-set':['MARCO', 'KRT79', 'KRT19', 'CAR4', 'CHIL3']\n",
    "    },\n",
    "    'ARG1 Macrophage': {\n",
    "        'mouse-1':['CCL17', 'CCR5', 'MAFB', 'CD86', 'ARG1'],\n",
    "        'mouse-2':['GPNMB', 'SPP1', 'CD68']\n",
    "    },\n",
    "    'C1QA Macrophage': {\n",
    "        'canonical':['CSF1R', 'MRC1', 'APOE', 'C1QA', 'C1QB', 'C1QC', 'CTSB', 'CTSD']\n",
    "    },\n",
    "    'CCR7 cDC2': {\n",
    "        'gene-set':['FSCN1', 'CCR7', 'LY75', 'CCL22', 'CD40', 'BIRC3', 'NFKB2', 'IL12B',\n",
    "            'MARCKSL1', 'CD274', 'TNFRSF9', 'SEMA7A', 'STAT4']\n",
    "    },\n",
    "    'cDC1': {\n",
    "        'gene-set':['XCR1', 'CLEC9A', 'CADM1', 'BATF3', 'IRF8']\n",
    "    },\n",
    "    'cDC2': {\n",
    "        'gene-set':['ZBTB46', 'CD207', 'IRF4', 'CEBPB', 'LILRB4A', 'ITGAX']\n",
    "    },\n",
    "    'CSF3R Monocyte': {\n",
    "        'neutrophil-like':['S100A8', 'S100A9', 'CSF3R', 'IL1B']\n",
    "    },\n",
    "    'Monocyte': {\n",
    "        'classical':['FN1', 'F13A1', 'VCAN', 'LY6C1', 'LY6C2', 'CCR2'],\n",
    "        'non-classical':['ITGAL', 'CX3CR1', 'FCGR4', 'CD300E', 'ACE']\n",
    "    },\n",
    "    'pDC': {\n",
    "        'gene-set':['TCF4', 'PLD4', 'BCL11A', 'RUNX2', 'SIGLECH', 'CCR9', 'BST2']\n",
    "    }\n",
    "}"
   ]
  },
  {
   "cell_type": "code",
   "execution_count": null,
   "metadata": {},
   "outputs": [],
   "source": [
    "model = spc.est_spectra(adata = adata, gene_set_dictionary = annotations, \n",
    "                        use_highly_variable = False, cell_type_key = 'Celltype_myeloid',\n",
    "                        use_weights = True, lam = 0.1, \n",
    "                        delta = 0.001,kappa = 0.00001, rho = 0.00001, \n",
    "                        use_cell_types = True, #set to False to not use the cell type annotations\n",
    "                        n_top_vals = 25, \n",
    "                        num_epochs = 5000 #for demonstration purposes we will only run 2 epochs, we recommend 10,000 epochs\n",
    "                       )"
   ]
  }
 ],
 "metadata": {
  "kernelspec": {
   "display_name": "Python 3",
   "language": "python",
   "name": "python3"
  },
  "language_info": {
   "codemirror_mode": {
    "name": "ipython",
    "version": 3
   },
   "file_extension": ".py",
   "mimetype": "text/x-python",
   "name": "python",
   "nbconvert_exporter": "python",
   "pygments_lexer": "ipython3",
   "version": "3.10.6"
  },
  "orig_nbformat": 4,
  "vscode": {
   "interpreter": {
    "hash": "916dbcbb3f70747c44a77c7bcd40155683ae19c65e1c03b4aa3499c5328201f1"
   }
  }
 },
 "nbformat": 4,
 "nbformat_minor": 2
}
